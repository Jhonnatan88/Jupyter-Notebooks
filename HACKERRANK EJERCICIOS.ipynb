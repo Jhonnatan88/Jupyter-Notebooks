{
 "cells": [
  {
   "cell_type": "markdown",
   "id": "29fdf903",
   "metadata": {},
   "source": [
    "# 1\n",
    "\n",
    "https://www.hackerrank.com/challenges/py-if-else/problem"
   ]
  },
  {
   "cell_type": "code",
   "execution_count": 1,
   "id": "fff751f0",
   "metadata": {},
   "outputs": [
    {
     "name": "stdout",
     "output_type": "stream",
     "text": [
      "Please enter a number: 1\n",
      "Weird\n"
     ]
    }
   ],
   "source": [
    "\n",
    "x1 = int(input(\"Please enter a number: \").strip())\n",
    "\n",
    "\n",
    "if x1 % 2 == 0: \n",
    "\n",
    "    if x1  >= 2 and x1 <= 5:\n",
    "        print(\"Not weird\")\n",
    "    elif x1  >= 6 and x1 <= 20:\n",
    "        print(\"weird\")\n",
    "    elif x1  > 20:\n",
    "        print(\"Not weird\")\n",
    "else: \n",
    "    print(\"Weird\")\n"
   ]
  },
  {
   "cell_type": "markdown",
   "id": "051cc12e",
   "metadata": {},
   "source": [
    "# 2\n",
    "\n",
    "https://www.hackerrank.com/challenges/python-arithmetic-operators/problem"
   ]
  },
  {
   "cell_type": "code",
   "execution_count": 2,
   "id": "bd702a88",
   "metadata": {},
   "outputs": [
    {
     "name": "stdout",
     "output_type": "stream",
     "text": [
      "5\n",
      "1\n",
      "6\n"
     ]
    }
   ],
   "source": [
    "a = 3\n",
    "b = 2\n",
    "\n",
    "print(a+b)\n",
    "print(a-b)\n",
    "print(a*b)\n"
   ]
  },
  {
   "cell_type": "markdown",
   "id": "2a9b388b",
   "metadata": {},
   "source": [
    "# 3\n",
    "\n",
    "https://www.hackerrank.com/challenges/python-division/problem"
   ]
  },
  {
   "cell_type": "code",
   "execution_count": 3,
   "id": "a61b31b0",
   "metadata": {},
   "outputs": [
    {
     "name": "stdout",
     "output_type": "stream",
     "text": [
      "1\n",
      "1.3333333333333333\n"
     ]
    }
   ],
   "source": [
    "a = int(4)\n",
    "b = int(3)\n",
    "\n",
    "print(a//b)\n",
    "print(a/b)"
   ]
  },
  {
   "cell_type": "markdown",
   "id": "5fd8c35f",
   "metadata": {},
   "source": [
    "# 4\n",
    "\n",
    "https://www.hackerrank.com/challenges/python-loops/problem"
   ]
  },
  {
   "cell_type": "code",
   "execution_count": 4,
   "id": "243ded2a",
   "metadata": {},
   "outputs": [
    {
     "name": "stdout",
     "output_type": "stream",
     "text": [
      "1\n",
      "4\n",
      "9\n",
      "16\n",
      "25\n"
     ]
    }
   ],
   "source": [
    "i=0\n",
    "a=0\n",
    "for i in range (1,6):\n",
    "    print(i*i)\n"
   ]
  },
  {
   "cell_type": "markdown",
   "id": "c6c98610",
   "metadata": {},
   "source": [
    "# 5\n",
    "\n",
    "https://www.hackerrank.com/challenges/write-a-function/problem"
   ]
  },
  {
   "cell_type": "code",
   "execution_count": 19,
   "id": "b1b705a7",
   "metadata": {},
   "outputs": [
    {
     "name": "stdout",
     "output_type": "stream",
     "text": [
      "Please enter a year: 1990\n",
      "is not leap\n"
     ]
    }
   ],
   "source": [
    "def is_leap(year1):\n",
    "         if year%400 == 0 and (year%4 == 0 and year%100 != 0):\n",
    "            print(\"Is Leap\")\n",
    "         else:\n",
    "            print(\"is not leap\")\n",
    "\n",
    "\n",
    "year = int(input(\"Please enter a year: \"))\n",
    "\n",
    "is_leap(year)\n"
   ]
  },
  {
   "cell_type": "markdown",
   "id": "c8de11af",
   "metadata": {},
   "source": [
    "# 6\n",
    "\n",
    "https://www.hackerrank.com/challenges/find-second-maximum-number-in-a-list/problem"
   ]
  },
  {
   "cell_type": "code",
   "execution_count": 32,
   "id": "4f27a476",
   "metadata": {},
   "outputs": [
    {
     "name": "stdout",
     "output_type": "stream",
     "text": [
      "6\n",
      "5\n"
     ]
    }
   ],
   "source": [
    "lista = [2,3,6,6,5]\n",
    "\n",
    "\n",
    "a = max(lista)\n",
    "print(a)\n",
    "    \n",
    "c = lista.count(a)\n",
    "    \n",
    "for i in range(c):\n",
    "    lista.remove(a)\n",
    "        \n",
    "print(max(lista))\n"
   ]
  },
  {
   "cell_type": "markdown",
   "id": "fe94af17",
   "metadata": {},
   "source": [
    "# 7\n",
    "\n",
    "https://www.hackerrank.com/challenges/finding-the-percentage/problem"
   ]
  },
  {
   "cell_type": "code",
   "execution_count": 56,
   "id": "ddb342f7",
   "metadata": {},
   "outputs": [],
   "source": [
    "#no pude solucionarlo"
   ]
  },
  {
   "cell_type": "markdown",
   "id": "d885a842",
   "metadata": {},
   "source": [
    "# 8\n",
    "\n",
    "https://www.hackerrank.com/challenges/python-lists/problem"
   ]
  },
  {
   "cell_type": "code",
   "execution_count": 57,
   "id": "a1f97881",
   "metadata": {},
   "outputs": [],
   "source": [
    "#no pude solucionarlo"
   ]
  },
  {
   "cell_type": "markdown",
   "id": "39b9b7f9",
   "metadata": {},
   "source": [
    "# 9\n",
    "\n",
    "https://www.hackerrank.com/challenges/python-tuples/problem"
   ]
  },
  {
   "cell_type": "code",
   "execution_count": null,
   "id": "889ebee9",
   "metadata": {},
   "outputs": [],
   "source": [
    "    n = int(input())\n",
    "    integer_list = map(int, input().split())\n",
    "    t = tuple(integer_list)\n",
    "    print(hash(t))"
   ]
  },
  {
   "cell_type": "markdown",
   "id": "5d5e0363",
   "metadata": {},
   "source": [
    "# 10\n",
    "\n",
    "https://www.hackerrank.com/challenges/defaultdict-tutorial/problem"
   ]
  },
  {
   "cell_type": "code",
   "execution_count": 81,
   "id": "9266bc71",
   "metadata": {},
   "outputs": [],
   "source": [
    "#no pude solucionarlo"
   ]
  },
  {
   "cell_type": "markdown",
   "id": "8b092731",
   "metadata": {},
   "source": [
    "# 11\n",
    "\n",
    "https://www.hackerrank.com/challenges/collections-counter/problem"
   ]
  },
  {
   "cell_type": "code",
   "execution_count": 83,
   "id": "5ccd241e",
   "metadata": {},
   "outputs": [
    {
     "name": "stdout",
     "output_type": "stream",
     "text": [
      "1 2 3 4 5 6 7 8 18 6 5 \n",
      "6 0\n",
      "6 55\n"
     ]
    },
    {
     "ename": "ValueError",
     "evalue": "invalid literal for int() with base 10: '6 55'",
     "output_type": "error",
     "traceback": [
      "\u001b[1;31m---------------------------------------------------------------------------\u001b[0m",
      "\u001b[1;31mValueError\u001b[0m                                Traceback (most recent call last)",
      "\u001b[1;32mC:\\Users\\JHONNA~1\\AppData\\Local\\Temp/ipykernel_17184/3477722097.py\u001b[0m in \u001b[0;36m<module>\u001b[1;34m\u001b[0m\n\u001b[0;32m      3\u001b[0m \u001b[0mb\u001b[0m \u001b[1;33m=\u001b[0m \u001b[0mCounter\u001b[0m\u001b[1;33m(\u001b[0m\u001b[0mmap\u001b[0m\u001b[1;33m(\u001b[0m\u001b[0mint\u001b[0m\u001b[1;33m,\u001b[0m\u001b[0minput\u001b[0m\u001b[1;33m(\u001b[0m\u001b[1;33m)\u001b[0m\u001b[1;33m.\u001b[0m\u001b[0msplit\u001b[0m\u001b[1;33m(\u001b[0m\u001b[1;33m)\u001b[0m\u001b[1;33m)\u001b[0m\u001b[1;33m)\u001b[0m\u001b[1;33m\u001b[0m\u001b[1;33m\u001b[0m\u001b[0m\n\u001b[0;32m      4\u001b[0m \u001b[0mc\u001b[0m \u001b[1;33m=\u001b[0m \u001b[0minput\u001b[0m\u001b[1;33m(\u001b[0m\u001b[1;33m)\u001b[0m\u001b[1;33m\u001b[0m\u001b[1;33m\u001b[0m\u001b[0m\n\u001b[1;32m----> 5\u001b[1;33m \u001b[0md\u001b[0m \u001b[1;33m=\u001b[0m \u001b[0mint\u001b[0m\u001b[1;33m(\u001b[0m\u001b[0mc\u001b[0m\u001b[1;33m)\u001b[0m\u001b[1;33m\u001b[0m\u001b[1;33m\u001b[0m\u001b[0m\n\u001b[0m\u001b[0;32m      6\u001b[0m \u001b[0mganancias\u001b[0m \u001b[1;33m=\u001b[0m \u001b[1;36m0\u001b[0m\u001b[1;33m\u001b[0m\u001b[1;33m\u001b[0m\u001b[0m\n\u001b[0;32m      7\u001b[0m \u001b[1;33m\u001b[0m\u001b[0m\n",
      "\u001b[1;31mValueError\u001b[0m: invalid literal for int() with base 10: '6 55'"
     ]
    }
   ],
   "source": [
    "from collections import Counter\n",
    "a = input()\n",
    "b = Counter(map(int,input().split()))\n",
    "c = input()\n",
    "d = int(c) \n",
    "ganancias = 0\n",
    "\n",
    "for customer in range(d):\n",
    "    size, x_i = map(int,input().split())\n",
    "    if size in b and b[size] > 0:\n",
    "        b[size] -= 1\n",
    "        ganancias += x_i\n",
    "            \n",
    "print(ganancias)"
   ]
  },
  {
   "cell_type": "markdown",
   "id": "d7ead00a",
   "metadata": {},
   "source": [
    "# 12\n",
    "\n",
    "https://www.hackerrank.com/challenges/minimum-swaps-2/problem?h_l=interview&playlist_slugs%5B%5D=interview-preparation-kit&playlist_slugs%5B%5D=arrays"
   ]
  },
  {
   "cell_type": "code",
   "execution_count": 92,
   "id": "d7f17f6c",
   "metadata": {},
   "outputs": [
    {
     "name": "stdout",
     "output_type": "stream",
     "text": [
      "5\n",
      "0\n",
      "6\n",
      "0\n",
      "---------------------------------------------------------------\n",
      "6\n"
     ]
    }
   ],
   "source": [
    "\n",
    "\n",
    "arr = [6,7,8,5,9]\n",
    "\n",
    "index_1 = 0\n",
    "minimo = arr[0]\n",
    "cambios = 0\n",
    "\n",
    "print(len(arr))\n",
    "print(index_1)\n",
    "print(minimo)\n",
    "print(cambios)\n",
    "\n",
    "print(\"---------------------------------------------------------------\")\n",
    "\n",
    "for i in range (1,len(arr)):\n",
    "    if arr[i] <minimo:\n",
    "        index_1 = i\n",
    "        minnimo = arr[i]\n",
    "\n",
    "print(minimo)\n"
   ]
  },
  {
   "cell_type": "markdown",
   "id": "e36703cb",
   "metadata": {},
   "source": [
    "# 13\n",
    "\n",
    "https://www.hackerrank.com/challenges/floor-ceil-and-rint/problem"
   ]
  },
  {
   "cell_type": "markdown",
   "id": "5fb70fcf",
   "metadata": {},
   "source": [
    "# 14\n",
    "\n",
    "https://www.hackerrank.com/challenges/ctci-bubble-sort/problem?h_l=interview&playlist_slugs%5B%5D=interview-preparation-kit&playlist_slugs%5B%5D=sorting"
   ]
  },
  {
   "cell_type": "markdown",
   "id": "bb728682",
   "metadata": {},
   "source": [
    "# 15\n",
    "https://www.hackerrank.com/challenges/np-arrays/problem"
   ]
  },
  {
   "cell_type": "markdown",
   "id": "830758d5",
   "metadata": {},
   "source": [
    "# 16\n",
    "\n",
    "https://www.hackerrank.com/challenges/np-zeros-and-ones/problem"
   ]
  },
  {
   "cell_type": "code",
   "execution_count": null,
   "id": "9b0ff766",
   "metadata": {},
   "outputs": [],
   "source": []
  }
 ],
 "metadata": {
  "kernelspec": {
   "display_name": "Python 3 (ipykernel)",
   "language": "python",
   "name": "python3"
  },
  "language_info": {
   "codemirror_mode": {
    "name": "ipython",
    "version": 3
   },
   "file_extension": ".py",
   "mimetype": "text/x-python",
   "name": "python",
   "nbconvert_exporter": "python",
   "pygments_lexer": "ipython3",
   "version": "3.9.7"
  }
 },
 "nbformat": 4,
 "nbformat_minor": 5
}

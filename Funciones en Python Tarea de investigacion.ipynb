{
 "cells": [
  {
   "cell_type": "markdown",
   "id": "f33a146e",
   "metadata": {},
   "source": [
    "# Funciones\n",
    "\n",
    "Una funcion es un fragmento de codigo a los cuales podemos enviarle parametros para calcular alguna operacion, sin embargo, hay que asignarle un nombre para poder llamar esta funciom.\n",
    "\n",
    "Se pueden integrar loops, sumas restas etc.\n",
    "\n",
    "La palabra reservada para crear una funcion es **def**\n",
    "\n",
    "Ejemplo:"
   ]
  },
  {
   "cell_type": "code",
   "execution_count": 11,
   "id": "e6418869",
   "metadata": {},
   "outputs": [
    {
     "name": "stdout",
     "output_type": "stream",
     "text": [
      "7\n"
     ]
    }
   ],
   "source": [
    "def suma_1 (a,b):\n",
    "    print(a+b)\n",
    "\n",
    "suma_1(2,5)\n"
   ]
  },
  {
   "cell_type": "markdown",
   "id": "1524b9f5",
   "metadata": {},
   "source": [
    "# parametros nombrados\n",
    "\n",
    "\n",
    "Los parametros nombrados en una funcion, se llaman ingresando dentro de los parentesis ** seguido del nombre, esto se convierte en diccionario al ingresar parametros a este diccionario el orden no afectara el resultado, o de lo que estemos almacenando.\n"
   ]
  },
  {
   "cell_type": "code",
   "execution_count": 25,
   "id": "9055ff34",
   "metadata": {},
   "outputs": [
    {
     "name": "stdout",
     "output_type": "stream",
     "text": [
      "Dpi: 12354897\n",
      "nombre: Jhonnatan\n",
      "apedllido: Mejia\n",
      "\n"
     ]
    }
   ],
   "source": [
    "def DPI(**identificacion):\n",
    "    archivo = ''\n",
    "    \n",
    "    if identificacion.get('Dpi'):\n",
    "        archivo += 'Dpi: '+identificacion.get('Dpi') + '\\n'\n",
    "    if identificacion.get('nombre'):\n",
    "        archivo += 'nombre: '+identificacion.get('nombre') + '\\n'\n",
    "    if identificacion.get('apedllido'):\n",
    "        archivo += 'apedllido: '+identificacion.get('apedllido') + '\\n'\n",
    "    return archivo\n",
    "\n",
    "x = DPI( nombre = 'Jhonnatan', Dpi = '12354897',apedllido = 'Mejia')\n",
    "print(x)\n",
    "    "
   ]
  },
  {
   "cell_type": "markdown",
   "id": "726c6597",
   "metadata": {},
   "source": [
    "# Retorno de multiples valores\n",
    "\n",
    "### Paso de argumentos por posicion\n",
    "\n",
    "Este to sucede cuando definimos en la funcion a y b **\"(a,b)\"**  asumiendo que  es una resta, al momento de llamar esta funcion y ejectuarla, considerar el mismo orden para ingresar el valor, sin embargo, el orden no afectara la funcion si nombramos a los datos definidos en la funcion y el orden no afectara el resultado.\n",
    "\n",
    "\n",
    "### Argumentos por defecto\n",
    "\n",
    "en una funcion se pueden determinar los valores, que pueden ser tomados por defecto si ninguno es ingresado, por ejemplo en una division, si damos un valor al divisor y en la fucncion solamente se ingres aun valor la division sera efectuada con este valor por defecto que se dejo en la funcion.\n",
    "\n",
    "### Funcion return\n",
    "\n",
    "Esta funcion ayuda a devolver varios valores calculados de una un funcion, podriamos elevar al cuadrado y sumar en otra operacion y con el return llamas a ambas operaciones y asi podremos tener multiples valores de una sola funcion. \n",
    "\n",
    "Ejemplos\n",
    "\n"
   ]
  },
  {
   "cell_type": "code",
   "execution_count": 26,
   "id": "56137e57",
   "metadata": {},
   "outputs": [
    {
     "name": "stdout",
     "output_type": "stream",
     "text": [
      "Esto es una funcion sin argumentos\n"
     ]
    }
   ],
   "source": [
    "def ejemplo():\n",
    "\tprint (\"Esto es una funcion sin argumentos\")\n",
    " \n",
    "ejemplo()"
   ]
  },
  {
   "cell_type": "code",
   "execution_count": 27,
   "id": "ec2ced64",
   "metadata": {},
   "outputs": [
    {
     "name": "stdout",
     "output_type": "stream",
     "text": [
      "-30\n",
      "30\n"
     ]
    }
   ],
   "source": [
    "def restar (actual, nacimiento):\n",
    "\tresultado = actual - nacimiento\n",
    "\treturn resultado\n",
    " \n",
    " \n",
    "edad_erronea = restar(1990,2020)\n",
    "edad = restar(nacimiento=1990, actual=2020)\n",
    "print (edad_erronea)\n",
    "print (edad)"
   ]
  },
  {
   "cell_type": "code",
   "execution_count": 28,
   "id": "f090714b",
   "metadata": {},
   "outputs": [
    {
     "name": "stdout",
     "output_type": "stream",
     "text": [
      "10.0 20.0\n"
     ]
    }
   ],
   "source": [
    "\n",
    "def dividir (dividendo, divisor=2):\n",
    "\tresultado = dividendo/divisor\n",
    "\treturn resultado\n",
    " \n",
    "cuarto = dividir(40,4)\n",
    "mitad = dividir(40)\n",
    "print (cuarto,mitad)"
   ]
  },
  {
   "cell_type": "code",
   "execution_count": 30,
   "id": "75711e13",
   "metadata": {},
   "outputs": [
    {
     "name": "stdout",
     "output_type": "stream",
     "text": [
      "(25, 125)\n",
      "25\n",
      "125\n",
      "(9, 27)\n"
     ]
    }
   ],
   "source": [
    "\n",
    "def cuadradoycubo (n):\n",
    "\tcuadrado = n ** 2\n",
    "\tcubo = n ** 3\n",
    "\treturn cuadrado, cubo\n",
    "\t#return [cuadrado,cubo]\n",
    " \n",
    " \n",
    "print (cuadradoycubo(5))\n",
    "c2, c3 = cuadradoycubo(5)\n",
    "print (c2)\n",
    "print (c3)\n",
    " \n",
    "lista = cuadradoycubo(3)\n",
    "print (lista)"
   ]
  },
  {
   "cell_type": "markdown",
   "id": "e884dad6",
   "metadata": {},
   "source": [
    "# Funciones anonimas o lambda\n",
    "\n",
    "Estas funciones son denominada anonimas, ya que carecen de un nombre como funcion y no es necesario tener la palabra reservada def, es importante mencionar que puede tener cualquier numero de argumentos pero solo una expresion, se pueden optimizar lineas de codigo con este tipo de funciones."
   ]
  },
  {
   "cell_type": "code",
   "execution_count": 31,
   "id": "5b408b5c",
   "metadata": {},
   "outputs": [
    {
     "name": "stdout",
     "output_type": "stream",
     "text": [
      "9\n"
     ]
    }
   ],
   "source": [
    "square = lambda x: x ** 2\n",
    "print(square(3)) # Resultado: 9"
   ]
  },
  {
   "cell_type": "code",
   "execution_count": 33,
   "id": "a27da51d",
   "metadata": {},
   "outputs": [
    {
     "data": {
      "text/plain": [
       "True"
      ]
     },
     "execution_count": 33,
     "metadata": {},
     "output_type": "execute_result"
    }
   ],
   "source": [
    "lambda_func = lambda x: True if x**2 >= 10 else False\n",
    "lambda_func(3) # Retorna False\n",
    "lambda_func(4) # Retorna True"
   ]
  },
  {
   "cell_type": "code",
   "execution_count": 34,
   "id": "ecec871f",
   "metadata": {},
   "outputs": [
    {
     "name": "stdout",
     "output_type": "stream",
     "text": [
      "[1, 3, 5, 7, 9]\n"
     ]
    }
   ],
   "source": [
    "mi_lista = [1, 2, 3, 4, 5, 6, 7, 8, 9, 10]\n",
    "filtrado = []\n",
    "\n",
    "for num in mi_lista:\n",
    "     if num % 2 != 0:\n",
    "         filtrado.append(num)\n",
    "\n",
    "print(filtrado)      # Python 2: impresión de filtrado\n",
    "# [1, 3, 5, 7, 9]"
   ]
  },
  {
   "cell_type": "code",
   "execution_count": 38,
   "id": "5e13c45f",
   "metadata": {},
   "outputs": [
    {
     "name": "stdout",
     "output_type": "stream",
     "text": [
      "[1, 3, 5, 7, 9]\n"
     ]
    }
   ],
   "source": [
    "filtrado = [x for x in [1, 2, 3, 4, 5, 6, 7, 8, 9, 10] if x % 2 != 0]\n",
    "print(filtrado)"
   ]
  }
 ],
 "metadata": {
  "kernelspec": {
   "display_name": "Python 3 (ipykernel)",
   "language": "python",
   "name": "python3"
  },
  "language_info": {
   "codemirror_mode": {
    "name": "ipython",
    "version": 3
   },
   "file_extension": ".py",
   "mimetype": "text/x-python",
   "name": "python",
   "nbconvert_exporter": "python",
   "pygments_lexer": "ipython3",
   "version": "3.9.7"
  }
 },
 "nbformat": 4,
 "nbformat_minor": 5
}
